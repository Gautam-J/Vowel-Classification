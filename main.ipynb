{
 "cells": [
  {
   "cell_type": "code",
   "execution_count": 17,
   "id": "27fae345",
   "metadata": {},
   "outputs": [],
   "source": [
    "import librosa\n",
    "import numpy as np\n",
    "import tensorflow as tf\n",
    "import sounddevice as sd\n",
    "from scipy.io.wavfile import write"
   ]
  },
  {
   "cell_type": "code",
   "execution_count": 8,
   "id": "8159cc27",
   "metadata": {},
   "outputs": [],
   "source": [
    "def extract_mfcc(file_name, pad_len=40, n_mfcc=15):\n",
    "    \"\"\"Function used to extract MFCCs from audio data.\n",
    "\n",
    "    Computes MEL Coefficients for an audio file.\n",
    "\n",
    "    Args:\n",
    "        file_name (str): Path to the audio file along with extension.\n",
    "        pad_len (int): Number of samples to use.\n",
    "            Default: 40 (approx. 4 seconds)\n",
    "        n_mfcc (int): Number of MEL coefficients to compute.\n",
    "\n",
    "    Returns:\n",
    "        mfccs (np.array): 1D array of shape (n_mfcc * pad_len,)\n",
    "    \"\"\"\n",
    "\n",
    "    signal, sr = librosa.load(file_name, res_type='kaiser_fast')\n",
    "    mfccs = librosa.feature.mfcc(y=signal, sr=sr, n_mfcc=n_mfcc)\n",
    "\n",
    "    if mfccs.shape[1] > pad_len:\n",
    "        mfccs = mfccs[:, :pad_len]\n",
    "    else:\n",
    "        pad_width = pad_len - mfccs.shape[1]\n",
    "        mfccs = np.pad(mfccs, ((0, 0), (0, pad_width)), mode='constant')\n",
    "\n",
    "    return mfccs\n",
    "\n",
    "\n",
    "def class_to_category(c):\n",
    "    if c == 0:\n",
    "        return 'a'\n",
    "    if c == 1:\n",
    "        return 'i'\n",
    "    if c == 2:\n",
    "        return 'u'"
   ]
  },
  {
   "cell_type": "code",
   "execution_count": 9,
   "id": "e69671dd",
   "metadata": {},
   "outputs": [
    {
     "name": "stdout",
     "output_type": "stream",
     "text": [
      "Metal device set to: Apple M1\n"
     ]
    },
    {
     "name": "stderr",
     "output_type": "stream",
     "text": [
      "2022-11-26 20:03:54.981169: I tensorflow/core/common_runtime/pluggable_device/pluggable_device_factory.cc:305] Could not identify NUMA node of platform GPU ID 0, defaulting to 0. Your kernel may not have been built with NUMA support.\n",
      "2022-11-26 20:03:54.982040: I tensorflow/core/common_runtime/pluggable_device/pluggable_device_factory.cc:271] Created TensorFlow device (/job:localhost/replica:0/task:0/device:GPU:0 with 0 MB memory) -> physical PluggableDevice (device: 0, name: METAL, pci bus id: <undefined>)\n"
     ]
    }
   ],
   "source": [
    "model = tf.keras.models.load_model('./models/best.h5')"
   ]
  },
  {
   "cell_type": "code",
   "execution_count": 26,
   "id": "eab5bc9e",
   "metadata": {},
   "outputs": [],
   "source": [
    "# Sampling frequency\n",
    "freq = 44100\n",
    "# Recording duration\n",
    "duration = 3\n",
    "\n",
    "recording = sd.rec(int(duration * freq), \n",
    "                   samplerate=freq, channels=1)\n",
    "\n",
    "sd.wait()\n",
    "\n",
    "write(\"./recordings/recording0.wav\", freq, recording)"
   ]
  },
  {
   "cell_type": "code",
   "execution_count": 28,
   "id": "e4ffda86",
   "metadata": {},
   "outputs": [
    {
     "name": "stdout",
     "output_type": "stream",
     "text": [
      "Prediction: i\n"
     ]
    }
   ],
   "source": [
    "x = extract_mfcc('./recordings/recording0.wav')\n",
    "x = np.mean(x, axis=1)\n",
    "x = x.reshape(1, -1)\n",
    "\n",
    "pred_prob = model.predict(x)[0]\n",
    "c = np.argmax(pred_prob)\n",
    "confidence_score = pred_prob[c]\n",
    "prediction = class_to_category(c)\n",
    "\n",
    "print('Prediction:', prediction)"
   ]
  }
 ],
 "metadata": {
  "kernelspec": {
   "display_name": "Python 3 (ipykernel)",
   "language": "python",
   "name": "python3"
  },
  "language_info": {
   "codemirror_mode": {
    "name": "ipython",
    "version": 3
   },
   "file_extension": ".py",
   "mimetype": "text/x-python",
   "name": "python",
   "nbconvert_exporter": "python",
   "pygments_lexer": "ipython3",
   "version": "3.9.13"
  }
 },
 "nbformat": 4,
 "nbformat_minor": 5
}
